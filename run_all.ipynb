{
 "cells": [
  {
   "cell_type": "code",
   "execution_count": 39,
   "id": "9c92ff05",
   "metadata": {},
   "outputs": [],
   "source": [
    "import json\n",
    "from subprocess import Popen\n",
    "import shlex\n",
    "import os\n",
    "import jsonlines"
   ]
  },
  {
   "cell_type": "code",
   "execution_count": 67,
   "id": "75f3e189-e26b-4930-9c36-d9537df51ce4",
   "metadata": {},
   "outputs": [],
   "source": [
    "input_path = \"/home/lhk/data/hp_test/hp_test_results.json\""
   ]
  },
  {
   "cell_type": "code",
   "execution_count": 68,
   "id": "f28a00b6",
   "metadata": {},
   "outputs": [],
   "source": [
    "with open(input_path) as file:\n",
    "    data = json.load(file)"
   ]
  },
  {
   "cell_type": "code",
   "execution_count": 85,
   "id": "fea8ffd2",
   "metadata": {},
   "outputs": [
    {
     "name": "stderr",
     "output_type": "stream",
     "text": [
      "Loading: \n",
      "Loading: 0 packages loaded\n",
      "Analyzing: target //execution:solve_example (0 packages loaded, 0 targets configured)\n",
      "INFO: Analyzed target //execution:solve_example (0 packages loaded, 0 targets configured).\n",
      "INFO: Found 1 target...\n",
      "[0 / 1] [Prepa] BazelWorkspaceStatusAction stable-status.txt\n",
      "Target //execution:solve_example up-to-date:\n",
      "  bazel-bin/execution/solve_example\n",
      "INFO: Elapsed time: 0.075s, Critical Path: 0.00s\n",
      "INFO: 1 process: 1 internal.\n",
      "INFO: Build completed successfully, 1 total action\n",
      "INFO: Running command line: bazel-bin/execution/solve_example '--data_path=/home/lhk/data/' '--input_path=/home/lhk/data/hp_test/0/frequency_penalty-0.2-temperature-0/cc_eval_format.json' '--output_path=/home/lhk/data/hp_test/0/frequency_penalty-0.2-temperature-0/output.json' '--python3_path=/usr/bin/python3.10' '--python3_library_paths=/usr/lib/python3.10'\n",
      "INFO: Build completed successfully, 1 total action\n",
      "Loading: \n",
      "Loading: 0 packages loaded\n",
      "Analyzing: target //execution:solve_example (0 packages loaded, 0 targets configured)\n",
      "INFO: Analyzed target //execution:solve_example (0 packages loaded, 0 targets configured).\n",
      "INFO: Found 1 target...\n",
      "[0 / 1] [Prepa] BazelWorkspaceStatusAction stable-status.txt\n",
      "Target //execution:solve_example up-to-date:\n"
     ]
    },
    {
     "name": "stdout",
     "output_type": "stream",
     "text": [
      "/home/lhk/data/hp_test/0/frequency_penalty-0.2-temperature-0/predictions.txt\n",
      "parsed the input json\n",
      "found a generation\n",
      "/home/lhk/data/hp_test/0/frequency_penalty-0-temperature-0.1/predictions.txt\n",
      "parsed the input json\n",
      "compilation error\n",
      "compilation error\n",
      "failed\n"
     ]
    },
    {
     "name": "stderr",
     "output_type": "stream",
     "text": [
      "  bazel-bin/execution/solve_example\n",
      "[global_forkclient.cc : 122] RAW: Starting global forkserver\n",
      "INFO: Elapsed time: 0.080s, Critical Path: 0.00s\n",
      "INFO: 1 process: 1 internal.\n",
      "INFO: Build completed successfully, 1 total action\n",
      "INFO: Running command line: bazel-bin/execution/solve_example '--data_path=/home/lhk/data/' '--input_path=/home/lhk/data/hp_test/0/frequency_penalty-0-temperature-0.1/cc_eval_format.json' '--output_path=/home/lhk/data/hp_test/0/frequency_penalty-0-temperature-0.1/output.json' '--python3_path=/usr/bin/python3.10' '--python3_library_paths=/usr/lib/python3.10'\n",
      "INFO: Build completed successfully, 1 total action\n",
      "Loading: \n",
      "Loading: 0 packages loaded\n",
      "Analyzing: target //execution:solve_example (0 packages loaded, 0 targets configured)\n",
      "INFO: Analyzed target //execution:solve_example (0 packages loaded, 0 targets configured).\n",
      "INFO: Found 1 target...\n",
      "[0 / 1] [Prepa] BazelWorkspaceStatusAction stable-status.txt\n",
      "Target //execution:solve_example up-to-date:\n",
      "  bazel-bin/execution/solve_example\n",
      "INFO: Elapsed time: 0.081s, Critical Path: 0.00s\n",
      "INFO: 1 process: 1 internal.\n",
      "INFO: Build completed successfully, 1 total action\n",
      "INFO: Running command line: bazel-bin/execution/solve_example '--data_path=/home/lhk/data/' '--input_path=/home/lhk/data/hp_test/0/frequency_penalty-0-temperature-0/cc_eval_format.json' '--output_path=/home/lhk/data/hp_test/0/frequency_penalty-0-temperature-0/output.json' '--python3_path=/usr/bin/python3.10' '--python3_library_paths=/usr/lib/python3.10'\n",
      "INFO: Build completed successfully, 1 total action\n",
      "[global_forkclient.cc : 122] RAW: Starting global forkserver\n"
     ]
    },
    {
     "name": "stdout",
     "output_type": "stream",
     "text": [
      "found a generation\n",
      "found a generation\n",
      "/home/lhk/data/hp_test/0/frequency_penalty-0-temperature-0/predictions.txt\n",
      "parsed the input json\n",
      "failed\n",
      "found a generation\n",
      "done\n",
      "failed\n",
      "found a generation\n",
      "found a generation\n",
      "/home/lhk/data/hp_test/0/frequency_penalty-0.2-temperature-0.1/predictions.txt\n",
      "parsed the input json\n",
      "failed\n",
      "found a generation\n",
      "failed\n",
      "found a generation\n",
      "failed\n",
      "found a generation\n",
      "failed\n",
      "found a generation\n",
      "compilation error\n"
     ]
    },
    {
     "name": "stderr",
     "output_type": "stream",
     "text": [
      "Loading: \n",
      "Loading: 0 packages loaded\n",
      "Analyzing: target //execution:solve_example (0 packages loaded, 0 targets configured)\n",
      "INFO: Analyzed target //execution:solve_example (0 packages loaded, 0 targets configured).\n",
      "INFO: Found 1 target...\n",
      "[0 / 1] [Prepa] BazelWorkspaceStatusAction stable-status.txt\n",
      "Target //execution:solve_example up-to-date:\n",
      "  bazel-bin/execution/solve_example\n",
      "INFO: Elapsed time: 0.091s, Critical Path: 0.00s\n",
      "[global_forkclient.cc : 122] RAW: Starting global forkserver\n",
      "INFO: 1 process: 1 internal.\n",
      "INFO: Build completed successfully, 1 total action\n",
      "INFO: Running command line: bazel-bin/execution/solve_example '--data_path=/home/lhk/data/' '--input_path=/home/lhk/data/hp_test/0/frequency_penalty-0.2-temperature-0.1/cc_eval_format.json' '--output_path=/home/lhk/data/hp_test/0/frequency_penalty-0.2-temperature-0.1/output.json' '--python3_path=/usr/bin/python3.10' '--python3_library_paths=/usr/lib/python3.10'\n",
      "INFO: Build completed successfully, 1 total action\n"
     ]
    },
    {
     "name": "stdout",
     "output_type": "stream",
     "text": [
      "compilation error\n",
      "failed\n",
      "found a generation\n",
      "found a generation\n",
      "failed\n",
      "failed\n",
      "found a generation\n",
      "found a generation\n",
      "failed\n",
      "found a generation\n",
      "failed\n",
      "failed\n",
      "found a generation\n",
      "found a generation\n",
      "compilation error\n",
      "compilation error\n",
      "failed\n",
      "found a generation\n"
     ]
    },
    {
     "name": "stderr",
     "output_type": "stream",
     "text": [
      "[global_forkclient.cc : 122] RAW: Starting global forkserver\n"
     ]
    },
    {
     "name": "stdout",
     "output_type": "stream",
     "text": [
      "failed\n",
      "found a generation\n",
      "failed\n",
      "found a generation\n"
     ]
    }
   ],
   "source": [
    "parent_dir, _ = os.path.split(input_path)\n",
    "parent_dir += \"/\"\n",
    "for entry in data:\n",
    "    in_path = parent_dir+entry[\"result_filepath\"]\n",
    "    result_path, _ = os.path.split(in_path)\n",
    "    \n",
    "    parsed = {in_path:[]}\n",
    "    for obj in jsonlines.open(in_path):\n",
    "        parsed[in_path].append({\"id\":obj['id'], \"model_completions\": obj[\"model_completions\"]})\n",
    "        \n",
    "    prepared_path = result_path + \"/cc_eval_format.json\"\n",
    "\n",
    "    with open(prepared_path, \"w\") as file:\n",
    "        json.dump(parsed, file)\n",
    "    \n",
    "    out_path = result_path + \"/output.json\"\n",
    "    \n",
    "    cmd = f\"bazel run -c opt execution:solve_example -- --data_path=/home/lhk/data/ --input_path={prepared_path} --output_path={out_path}   --python3_path=/usr/bin/python3.10 --python3_library_paths=/usr/lib/python3.10\"\n",
    "    \n",
    "    Popen(shlex.split(cmd))\n",
    "    \n",
    "print(\"done\")"
   ]
  },
  {
   "cell_type": "code",
   "execution_count": 78,
   "id": "07d253c9",
   "metadata": {},
   "outputs": [],
   "source": []
  },
  {
   "cell_type": "code",
   "execution_count": 83,
   "id": "723a5e7f",
   "metadata": {},
   "outputs": [
    {
     "data": {
      "text/plain": [
       "<Popen: returncode: None args: ['bazel', 'run', '-c', 'opt', 'execution:solv...>"
      ]
     },
     "execution_count": 83,
     "metadata": {},
     "output_type": "execute_result"
    },
    {
     "name": "stderr",
     "output_type": "stream",
     "text": [
      "Loading: \n",
      "Loading: 0 packages loaded\n",
      "Analyzing: target //execution:solve_example (0 packages loaded, 0 targets configured)\n",
      "INFO: Analyzed target //execution:solve_example (1 packages loaded, 3 targets configured).\n",
      "INFO: Found 1 target...\n",
      "[0 / 4] [Prepa] BazelWorkspaceStatusAction stable-status.txt\n",
      "[44 / 708] Compiling src/google/protobuf/compiler/cpp/cpp_message.cc; 1s linux-sandbox ... (12 actions, 11 running)\n",
      "[49 / 708] Compiling src/google/protobuf/compiler/cpp/cpp_message.cc; 2s linux-sandbox ... (12 actions, 11 running)\n",
      "[54 / 708] Compiling src/google/protobuf/compiler/cpp/cpp_message.cc; 3s linux-sandbox ... (12 actions, 11 running)\n",
      "[60 / 708] Compiling src/google/protobuf/compiler/cpp/cpp_message.cc; 4s linux-sandbox ... (12 actions, 11 running)\n",
      "[65 / 708] Compiling src/google/protobuf/compiler/cpp/cpp_message.cc; 5s linux-sandbox ... (12 actions running)\n",
      "[72 / 708] Compiling src/google/protobuf/compiler/cpp/cpp_message.cc; 7s linux-sandbox ... (12 actions running)\n",
      "[77 / 708] Compiling src/google/protobuf/compiler/cpp/cpp_message.cc; 8s linux-sandbox ... (12 actions running)\n",
      "[83 / 708] Compiling src/google/protobuf/compiler/cpp/cpp_message.cc; 9s linux-sandbox ... (12 actions running)\n",
      "[90 / 708] Compiling src/google/protobuf/text_format.cc; 4s linux-sandbox ... (12 actions running)\n",
      "[106 / 708] Compiling src/google/protobuf/generated_message_reflection.cc; 2s linux-sandbox ... (12 actions running)\n",
      "[118 / 708] Compiling src/google/protobuf/generated_message_reflection.cc; 4s linux-sandbox ... (12 actions running)\n",
      "[133 / 708] Compiling src/google/protobuf/compiler/cpp/cpp_enum.cc; 2s linux-sandbox ... (12 actions running)\n",
      "[142 / 708] Compiling src/google/protobuf/compiler/objectivec/objectivec_helpers.cc; 4s linux-sandbox ... (12 actions running)\n",
      "[156 / 708] Compiling src/google/protobuf/compiler/php/php_generator.cc; 5s linux-sandbox ... (12 actions, 11 running)\n",
      "[176 / 708] Compiling src/google/protobuf/util/message_differencer.cc; 2s linux-sandbox ... (12 actions, 11 running)\n",
      "[195 / 710] Compiling src/google/protobuf/generated_message_table_driven_lite.cc; 3s linux-sandbox ... (12 actions, 11 running)\n",
      "[215 / 710] Compiling src/google/protobuf/compiler/js/js_generator.cc; 7s linux-sandbox ... (12 actions, 11 running)\n",
      "INFO: From Compiling sandboxed_api/util/raw_logging.cc [for host]:\n",
      "In file included from external/com_google_sandboxed_api/sandboxed_api/util/raw_logging.cc:15:\n",
      "external/com_google_sandboxed_api/sandboxed_api/util/raw_logging.h:134:15: warning: nested namespace definition is a C++17 extension; define each namespace separately [-Wc++17-extensions]\n",
      "namespace sapi::raw_logging_internal {\n",
      "              ^~~~~~~~~~~~~~~~~~~~~~\n",
      "               { namespace raw_logging_internal\n",
      "external/com_google_sandboxed_api/sandboxed_api/util/raw_logging.cc:107:15: warning: nested namespace definition is a C++17 extension; define each namespace separately [-Wc++17-extensions]\n",
      "namespace sapi::raw_logging_internal {\n",
      "              ^~~~~~~~~~~~~~~~~~~~~~\n",
      "               { namespace raw_logging_internal\n",
      "2 warnings generated.\n",
      "INFO: From Compiling sandboxed_api/util/fileops.cc [for host]:\n",
      "In file included from external/com_google_sandboxed_api/sandboxed_api/util/fileops.cc:15:\n",
      "external/com_google_sandboxed_api/sandboxed_api/util/fileops.h:24:15: warning: nested namespace definition is a C++17 extension; define each namespace separately [-Wc++17-extensions]\n",
      "namespace sapi::file_util::fileops {\n",
      "              ^~~~~~~~~~~~~~~~~~~~\n",
      "               { namespace file_util { namespace fileops\n",
      "external/com_google_sandboxed_api/sandboxed_api/util/fileops.cc:29:15: warning: nested namespace definition is a C++17 extension; define each namespace separately [-Wc++17-extensions]\n",
      "namespace sapi::file_util::fileops {\n",
      "              ^~~~~~~~~~~~~~~~~~~~\n",
      "               { namespace file_util { namespace fileops\n",
      "2 warnings generated.\n",
      "INFO: From Compiling sandboxed_api/tools/filewrapper/filewrapper.cc [for host]:\n",
      "In file included from external/com_google_sandboxed_api/sandboxed_api/tools/filewrapper/filewrapper.cc:29:\n",
      "external/com_google_sandboxed_api/sandboxed_api/util/fileops.h:24:15: warning: nested namespace definition is a C++17 extension; define each namespace separately [-Wc++17-extensions]\n",
      "namespace sapi::file_util::fileops {\n",
      "              ^~~~~~~~~~~~~~~~~~~~\n",
      "               { namespace file_util { namespace fileops\n",
      "In file included from external/com_google_sandboxed_api/sandboxed_api/tools/filewrapper/filewrapper.cc:30:\n",
      "external/com_google_sandboxed_api/sandboxed_api/util/raw_logging.h:134:15: warning: nested namespace definition is a C++17 extension; define each namespace separately [-Wc++17-extensions]\n",
      "namespace sapi::raw_logging_internal {\n",
      "              ^~~~~~~~~~~~~~~~~~~~~~\n",
      "               { namespace raw_logging_internal\n",
      "2 warnings generated.\n",
      "[468 / 1,098] Compiling src/google/protobuf/descriptor.cc; 8s linux-sandbox ... (12 actions, 11 running)\n",
      "[608 / 1,204] Compiling src/google/protobuf/descriptor.cc; 14s linux-sandbox ... (12 actions, 11 running)\n",
      "[704 / 1,246] Compiling src/google/protobuf/generated_message_util.cc; 3s linux-sandbox ... (12 actions, 11 running)\n",
      "[789 / 1,265] Compiling src/google/protobuf/util/message_differencer.cc; 2s linux-sandbox ... (12 actions, 11 running)\n",
      "[1,013 / 1,283] Compiling src/google/protobuf/descriptor.cc; 10s linux-sandbox ... (12 actions, 11 running)\n",
      "[1,184 / 1,285] Compiling riegeli/records/chunk_reader.cc; 2s linux-sandbox ... (12 actions, 11 running)\n",
      "[1,281 / 1,289] Compiling sandboxed_api/sandbox2/policybuilder.cc; 3s linux-sandbox ... (6 actions running)\n",
      "Target //execution:solve_example up-to-date:\n",
      "  bazel-bin/execution/solve_example\n",
      "INFO: Elapsed time: 97.308s, Critical Path: 23.45s\n",
      "INFO: 685 processes: 5 internal, 680 linux-sandbox.\n",
      "INFO: Build completed successfully, 685 total actions\n",
      "INFO: Running command line: bazel-bin/execution/solve_example '--data_path=/home/lhk/data/' '--input_path=/home/lhk/data/hp_test/0/frequency_penalty-0.2-temperature-0.1/cc_eval_format.json' '--output_path=/home/lhk/data/hp_test/0/frequency_penalty-0.2-temperature-0.1/output.json' '--python3_path=/usr/bin/python3.10' '--python3_library_paths=/usr/lib/python3.10'\n",
      "INFO: Build completed successfully, 685 total actions\n",
      "[global_forkclient.cc : 122] RAW: Starting global forkserver\n"
     ]
    },
    {
     "name": "stdout",
     "output_type": "stream",
     "text": [
      "/home/lhk/data/hp_test/0/frequency_penalty-0.2-temperature-0.1/predictions.txt\n",
      "parsed the input json\n",
      "found a generation\n",
      "failed\n",
      "found a generation\n",
      "passed\n",
      "found a generation\n",
      "failed\n",
      "found a generation\n",
      "compilation error\n",
      "compilation error\n",
      "failed\n",
      "found a generation\n",
      "compilation error\n",
      "compilation error\n",
      "failed\n",
      "found a generation\n",
      "compilation error\n",
      "compilation error\n",
      "failed\n",
      "found a generation\n"
     ]
    },
    {
     "name": "stderr",
     "output_type": "stream",
     "text": [
      "WARNING: Logging before InitGoogleLogging() is written to STDERR\n",
      "I20221119 22:01:14.642277 27364 monitor.cc:386] Stack traces have been disabled\n"
     ]
    },
    {
     "name": "stdout",
     "output_type": "stream",
     "text": [
      "failed\n",
      "found a generation\n"
     ]
    },
    {
     "name": "stderr",
     "output_type": "stream",
     "text": [
      "I20221119 22:01:19.702234 27454 monitor.cc:386] Stack traces have been disabled\n",
      "I20221119 22:01:24.710242 27467 monitor.cc:386] Stack traces have been disabled\n"
     ]
    },
    {
     "name": "stdout",
     "output_type": "stream",
     "text": [
      "failed\n",
      "found a generation\n",
      "failed\n",
      "found a generation\n",
      "passed\n",
      "found a generation\n",
      "compilation error\n",
      "compilation error\n",
      "failed\n",
      "found a generation\n",
      "compilation error\n",
      "compilation error\n",
      "failed\n",
      "found a generation\n",
      "compilation error\n",
      "compilation error\n",
      "failed\n",
      "found a generation\n",
      "compilation error\n",
      "compilation error\n",
      "failed\n",
      "found a generation\n",
      "failed\n",
      "found a generation\n",
      "failed\n",
      "found a generation\n",
      "passed\n",
      "found a generation\n",
      "compilation error\n",
      "compilation error\n",
      "failed\n",
      "writing output to: /home/lhk/data/hp_test/0/frequency_penalty-0.2-temperature-0.1/output.json\n"
     ]
    }
   ],
   "source": []
  },
  {
   "cell_type": "code",
   "execution_count": null,
   "id": "eb6b10f8-e668-4d3b-ac58-0e4118aeda52",
   "metadata": {},
   "outputs": [],
   "source": []
  }
 ],
 "metadata": {
  "kernelspec": {
   "display_name": "Python 3 (ipykernel)",
   "language": "python",
   "name": "python3"
  },
  "language_info": {
   "codemirror_mode": {
    "name": "ipython",
    "version": 3
   },
   "file_extension": ".py",
   "mimetype": "text/x-python",
   "name": "python",
   "nbconvert_exporter": "python",
   "pygments_lexer": "ipython3",
   "version": "3.10.4"
  }
 },
 "nbformat": 4,
 "nbformat_minor": 5
}
