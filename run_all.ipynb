{
 "cells": [
  {
   "cell_type": "code",
   "execution_count": 1,
   "id": "39fac8b7",
   "metadata": {},
   "outputs": [],
   "source": [
    "import json\n",
    "from subprocess import Popen, PIPE\n",
    "import shlex\n",
    "import os\n",
    "import jsonlines\n",
    "from glob import glob\n",
    "from tqdm.notebook import tqdm"
   ]
  },
  {
   "cell_type": "code",
   "execution_count": 2,
   "id": "75f3e189-e26b-4930-9c36-d9537df51ce4",
   "metadata": {},
   "outputs": [],
   "source": [
    "input_paths = glob(\"/home/lhk/data/hp_search/*/*.json\")"
   ]
  },
  {
   "cell_type": "code",
   "execution_count": null,
   "id": "9e8f46cf",
   "metadata": {},
   "outputs": [
    {
     "data": {
      "application/vnd.jupyter.widget-view+json": {
       "model_id": "7595e31840af4897a554336345b274f3",
       "version_major": 2,
       "version_minor": 0
      },
      "text/plain": [
       "  0%|          | 0/5 [00:00<?, ?it/s]"
      ]
     },
     "metadata": {},
     "output_type": "display_data"
    },
    {
     "data": {
      "application/vnd.jupyter.widget-view+json": {
       "model_id": "",
       "version_major": 2,
       "version_minor": 0
      },
      "text/plain": [
       "  0%|          | 0/180 [00:00<?, ?it/s]"
      ]
     },
     "metadata": {},
     "output_type": "display_data"
    },
    {
     "data": {
      "application/vnd.jupyter.widget-view+json": {
       "model_id": "",
       "version_major": 2,
       "version_minor": 0
      },
      "text/plain": [
       "  0%|          | 0/135 [00:00<?, ?it/s]"
      ]
     },
     "metadata": {},
     "output_type": "display_data"
    },
    {
     "data": {
      "application/vnd.jupyter.widget-view+json": {
       "model_id": "495e65a1831f434a866977710550c305",
       "version_major": 2,
       "version_minor": 0
      },
      "text/plain": [
       "  0%|          | 0/180 [00:00<?, ?it/s]"
      ]
     },
     "metadata": {},
     "output_type": "display_data"
    }
   ],
   "source": [
    "for input_path in tqdm(input_paths, position=0):\n",
    "\n",
    "    with open(input_path) as file:\n",
    "        data = json.load(file)\n",
    "\n",
    "    parent_dir, _ = os.path.split(input_path)\n",
    "    parent_dir += \"/\"\n",
    "\n",
    "    total = 0\n",
    "\n",
    "    for entry in tqdm(data, position=1, leave=False):\n",
    "        in_path = parent_dir+entry[\"result_filepath\"]\n",
    "        result_path, _ = os.path.split(in_path)\n",
    "\n",
    "        parsed = {in_path:[]}\n",
    "        for obj in jsonlines.open(in_path):\n",
    "            total+= len(obj[\"model_completions\"])\n",
    "            parsed[in_path].append({\"id\":obj['id'], \"model_completions\": obj[\"model_completions\"]})\n",
    "\n",
    "        prepared_path = result_path + \"/cc_eval_format.json\"\n",
    "        out_path = result_path + \"/output.json\"\n",
    "        \n",
    "        if os.path.exists(out_path):\n",
    "            continue\n",
    "        \n",
    "        with open(prepared_path, \"w\") as file:\n",
    "            json.dump(parsed, file)\n",
    "\n",
    "\n",
    "        cmd = f\"bazel run -c opt execution:solve_example -- --data_path=/home/lhk/data/ --input_path={prepared_path} --output_path={out_path}   --python3_path=/usr/bin/python3.10 --python3_library_paths=/usr/lib/python3.10\"\n",
    "\n",
    "        process = Popen(shlex.split(cmd), stdout=PIPE, stderr=PIPE)\n",
    "        stdout, stderr = process.communicate()\n",
    "        \n",
    "        #stdout = stdout.decode()\n",
    "        #stderr = stderr.decode()\n",
    "        \n",
    "        #print(stdout, stderr)"
   ]
  },
  {
   "cell_type": "code",
   "execution_count": null,
   "id": "b6b6d371",
   "metadata": {},
   "outputs": [],
   "source": [
    "out_path"
   ]
  },
  {
   "cell_type": "code",
   "execution_count": null,
   "id": "6a9e8c3f-c6d8-4b6b-adb0-c4247537f126",
   "metadata": {},
   "outputs": [],
   "source": [
    "if os.path.exists(out_path):\n",
    "    print(\"there\")"
   ]
  },
  {
   "cell_type": "code",
   "execution_count": null,
   "id": "b90c289f",
   "metadata": {},
   "outputs": [],
   "source": [
    "for p in processes:\n",
    "    p.wait()"
   ]
  },
  {
   "cell_type": "code",
   "execution_count": null,
   "id": "eb6b10f8-e668-4d3b-ac58-0e4118aeda52",
   "metadata": {},
   "outputs": [],
   "source": [
    "passed = 0\n",
    "failed = 0\n",
    "\n",
    "for filename in glob(\"/home/lhk/data/hp_test/*/*/output.json\"):\n",
    "    with open(filename) as file:\n",
    "        data = json.load(file)\n",
    "        \n",
    "    results = [res['passed'] for res in data['results']]\n",
    "    passed += sum(results)\n",
    "    failed += len(results) - sum(results)"
   ]
  },
  {
   "cell_type": "code",
   "execution_count": null,
   "id": "d0c04b52",
   "metadata": {},
   "outputs": [],
   "source": []
  }
 ],
 "metadata": {
  "kernelspec": {
   "display_name": "Python 3 (ipykernel)",
   "language": "python",
   "name": "python3"
  },
  "language_info": {
   "codemirror_mode": {
    "name": "ipython",
    "version": 3
   },
   "file_extension": ".py",
   "mimetype": "text/x-python",
   "name": "python",
   "nbconvert_exporter": "python",
   "pygments_lexer": "ipython3",
   "version": "3.10.4"
  }
 },
 "nbformat": 4,
 "nbformat_minor": 5
}
