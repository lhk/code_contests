{
 "cells": [
  {
   "cell_type": "code",
   "execution_count": 88,
   "id": "39fac8b7",
   "metadata": {},
   "outputs": [],
   "source": [
    "import json\n",
    "from subprocess import Popen\n",
    "import shlex\n",
    "import os\n",
    "import jsonlines\n",
    "from glob import glob"
   ]
  },
  {
   "cell_type": "code",
   "execution_count": 67,
   "id": "75f3e189-e26b-4930-9c36-d9537df51ce4",
   "metadata": {},
   "outputs": [],
   "source": [
    "input_path = \"/home/lhk/data/hp_test/hp_test_results.json\""
   ]
  },
  {
   "cell_type": "code",
   "execution_count": 106,
   "id": "9106504a",
   "metadata": {},
   "outputs": [],
   "source": [
    "with open(input_path) as file:\n",
    "    data = json.load(file)"
   ]
  },
  {
   "cell_type": "code",
   "execution_count": 107,
   "id": "9e8f46cf",
   "metadata": {},
   "outputs": [],
   "source": [
    "parent_dir, _ = os.path.split(input_path)\n",
    "parent_dir += \"/\"\n",
    "\n",
    "total = 0\n",
    "\n",
    "processes = []\n",
    "for entry in data:\n",
    "    in_path = parent_dir+entry[\"result_filepath\"]\n",
    "    result_path, _ = os.path.split(in_path)\n",
    "    \n",
    "    parsed = {in_path:[]}\n",
    "    for obj in jsonlines.open(in_path):\n",
    "        total+= len(obj[\"model_completions\"])\n",
    "        parsed[in_path].append({\"id\":obj['id'], \"model_completions\": obj[\"model_completions\"]})\n",
    "        \n",
    "    prepared_path = result_path + \"/cc_eval_format.json\"\n",
    "\n",
    "    with open(prepared_path, \"w\") as file:\n",
    "        json.dump(parsed, file)\n",
    "    \n",
    "    out_path = result_path + \"/output.json\"\n",
    "    \n",
    "    cmd = f\"bazel run -c opt execution:solve_example -- --data_path=/home/lhk/data/ --input_path={prepared_path} --output_path={out_path}   --python3_path=/usr/bin/python3.10 --python3_library_paths=/usr/lib/python3.10\"\n",
    "    \n",
    "    processes.append(Popen(shlex.split(cmd)))"
   ]
  },
  {
   "cell_type": "code",
   "execution_count": 108,
   "id": "b6b6d371",
   "metadata": {},
   "outputs": [
    {
     "data": {
      "text/plain": [
       "72"
      ]
     },
     "execution_count": 108,
     "metadata": {},
     "output_type": "execute_result"
    }
   ],
   "source": [
    "total"
   ]
  },
  {
   "cell_type": "code",
   "execution_count": 87,
   "id": "b90c289f",
   "metadata": {},
   "outputs": [
    {
     "name": "stderr",
     "output_type": "stream",
     "text": [
      "WARNING: Logging before InitGoogleLogging() is written to STDERR\n",
      "I20221119 22:08:26.430264 62275 monitor.cc:386] Stack traces have been disabled\n",
      "WARNING: Logging before InitGoogleLogging() is written to STDERR\n",
      "I20221119 22:08:26.902281 62458 monitor.cc:386] Stack traces have been disabled\n"
     ]
    },
    {
     "name": "stdout",
     "output_type": "stream",
     "text": [
      "failed\n",
      "found a generation\n"
     ]
    },
    {
     "name": "stderr",
     "output_type": "stream",
     "text": [
      "I20221119 22:08:29.438254 62469 monitor.cc:386] Stack traces have been disabled\n",
      "I20221119 22:08:29.590183 62480 monitor.cc:386] Stack traces have been disabled\n"
     ]
    },
    {
     "name": "stdout",
     "output_type": "stream",
     "text": [
      "failed\n",
      "found a generation\n",
      "compilation error\n",
      "compilation error\n",
      "failed\n",
      "found a generation\n",
      "failed\n",
      "found a generation\n",
      "failed\n",
      "found a generation\n"
     ]
    },
    {
     "name": "stderr",
     "output_type": "stream",
     "text": [
      "I20221119 22:08:31.442200 62492 monitor.cc:386] Stack traces have been disabled\n"
     ]
    },
    {
     "name": "stdout",
     "output_type": "stream",
     "text": [
      "failed\n",
      "found a generation\n",
      "failed\n",
      "found a generation\n"
     ]
    },
    {
     "name": "stderr",
     "output_type": "stream",
     "text": [
      "I20221119 22:08:31.954191 62514 monitor.cc:386] Stack traces have been disabled\n"
     ]
    },
    {
     "name": "stdout",
     "output_type": "stream",
     "text": [
      "passed\n",
      "found a generation\n",
      "failed\n",
      "found a generation\n",
      "compilation error\n",
      "compilation error\n",
      "failed\n",
      "found a generation\n",
      "failed\n",
      "found a generation\n",
      "passed\n",
      "found a generation\n",
      "compilation error\n",
      "compilation error\n",
      "failed\n",
      "compilation error\n",
      "found a generation\n",
      "compilation error\n",
      "failed\n",
      "found a generation\n",
      "compilation error\n",
      "compilation error\n",
      "failed\n",
      "found a generation\n",
      "failed\n",
      "found a generation\n",
      "compilation error\n",
      "compilation error\n",
      "failed\n",
      "found a generation\n",
      "compilation error\n",
      "compilation error\n",
      "failed\n",
      "found a generation\n",
      "compilation error\n",
      "compilation error\n",
      "failed\n",
      "found a generation\n",
      "failed\n",
      "found a generation\n",
      "compilation error\n",
      "compilation error\n",
      "failed\n",
      "passed\n",
      "found a generation\n",
      "compilation error\n",
      "compilation error\n",
      "failed\n",
      "found a generation\n",
      "failed\n",
      "found a generation\n",
      "failed\n",
      "found a generation\n",
      "compilation error\n",
      "compilation error\n",
      "failed\n",
      "found a generation\n",
      "failed\n",
      "found a generation\n",
      "failed\n",
      "found a generation\n",
      "failed\n",
      "found a generation\n",
      "passed\n",
      "compilation error\n",
      "found a generation\n",
      "compilation error\n",
      "failed\n",
      "compilation error\n",
      "compilation error\n",
      "failed\n",
      "found a generation\n",
      "failed\n",
      "found a generation\n",
      "failed\n"
     ]
    },
    {
     "name": "stderr",
     "output_type": "stream",
     "text": [
      "I20221119 22:08:36.966250 65390 monitor.cc:386] Stack traces have been disabled\n"
     ]
    },
    {
     "name": "stdout",
     "output_type": "stream",
     "text": [
      "failed\n",
      "found a generation\n",
      "failed\n",
      "found a generation\n",
      "passed\n",
      "found a generation\n",
      "compilation error\n",
      "compilation error\n",
      "failed\n",
      "found a generation\n",
      "compilation error\n",
      "compilation error\n",
      "failed\n",
      "found a generation\n",
      "compilation error\n",
      "compilation error\n",
      "failed\n",
      "found a generation\n",
      "compilation error\n",
      "compilation error\n",
      "failed\n",
      "found a generation\n",
      "failed\n",
      "found a generation\n",
      "failed\n",
      "found a generation\n",
      "passed\n",
      "found a generation\n",
      "compilation error\n",
      "compilation error\n",
      "failed\n",
      "writing output to: /home/lhk/data/hp_test/0/frequency_penalty-0-temperature-0/output.json\n",
      "writing output to: /home/lhk/data/hp_test/0/frequency_penalty-0.2-temperature-0/output.json\n",
      "writing output to: /home/lhk/data/hp_test/0/frequency_penalty-0-temperature-0.1/output.json\n",
      "writing output to: /home/lhk/data/hp_test/0/frequency_penalty-0.2-temperature-0.1/output.json\n"
     ]
    }
   ],
   "source": [
    "for p in processes:\n",
    "    p.wait()"
   ]
  },
  {
   "cell_type": "code",
   "execution_count": 101,
   "id": "eb6b10f8-e668-4d3b-ac58-0e4118aeda52",
   "metadata": {},
   "outputs": [],
   "source": [
    "passed = 0\n",
    "failed = 0\n",
    "\n",
    "for filename in glob(\"/home/lhk/data/hp_test/*/*/output.json\"):\n",
    "    with open(filename) as file:\n",
    "        data = json.load(file)\n",
    "        \n",
    "    results = [res['passed'] for res in data['results']]\n",
    "    passed += sum(results)\n",
    "    failed += len(results) - sum(results)"
   ]
  },
  {
   "cell_type": "code",
   "execution_count": null,
   "id": "d0c04b52",
   "metadata": {},
   "outputs": [],
   "source": []
  }
 ],
 "metadata": {
  "kernelspec": {
   "display_name": "Python 3 (ipykernel)",
   "language": "python",
   "name": "python3"
  },
  "language_info": {
   "codemirror_mode": {
    "name": "ipython",
    "version": 3
   },
   "file_extension": ".py",
   "mimetype": "text/x-python",
   "name": "python",
   "nbconvert_exporter": "python",
   "pygments_lexer": "ipython3",
   "version": "3.10.4"
  }
 },
 "nbformat": 4,
 "nbformat_minor": 5
}
